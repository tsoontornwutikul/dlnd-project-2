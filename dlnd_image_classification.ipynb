{
 "cells": [
  {
   "cell_type": "markdown",
   "metadata": {
    "collapsed": true
   },
   "source": [
    "# Image Classification\n",
    "In this project, you'll classify images from the [CIFAR-10 dataset](https://www.cs.toronto.edu/~kriz/cifar.html).  The dataset consists of airplanes, dogs, cats, and other objects. You'll preprocess the images, then train a convolutional neural network on all the samples. The images need to be normalized and the labels need to be one-hot encoded.  You'll get to apply what you learned and build a convolutional, max pooling, dropout, and fully connected layers.  At the end, you'll get to see your neural network's predictions on the sample images.\n",
    "## Get the Data\n",
    "Run the following cell to download the [CIFAR-10 dataset for python](https://www.cs.toronto.edu/~kriz/cifar-10-python.tar.gz)."
   ]
  },
  {
   "cell_type": "code",
   "execution_count": 1,
   "metadata": {
    "collapsed": true
   },
   "outputs": [],
   "source": [
    "import tensorflow as tf"
   ]
  },
  {
   "cell_type": "code",
   "execution_count": 3,
   "metadata": {
    "collapsed": false
   },
   "outputs": [
    {
     "name": "stderr",
     "output_type": "stream",
     "text": [
      "CIFAR-10 Dataset: 171MB [02:10, 1.31MB/s]                                                                                        \n"
     ]
    },
    {
     "name": "stdout",
     "output_type": "stream",
     "text": [
      "All files found!\n"
     ]
    }
   ],
   "source": [
    "\"\"\"\n",
    "DON'T MODIFY ANYTHING IN THIS CELL THAT IS BELOW THIS LINE\n",
    "\"\"\"\n",
    "from urllib.request import urlretrieve\n",
    "from os.path import isfile, isdir\n",
    "from tqdm import tqdm\n",
    "import problem_unittests as tests\n",
    "import tarfile\n",
    "\n",
    "cifar10_dataset_folder_path = 'cifar-10-batches-py'\n",
    "\n",
    "# Use Floyd's cifar-10 dataset if present\n",
    "floyd_cifar10_location = '/input/cifar-10/python.tar.gz'\n",
    "if isfile(floyd_cifar10_location):\n",
    "    tar_gz_path = floyd_cifar10_location\n",
    "else:\n",
    "    tar_gz_path = 'cifar-10-python.tar.gz'\n",
    "\n",
    "class DLProgress(tqdm):\n",
    "    last_block = 0\n",
    "\n",
    "    def hook(self, block_num=1, block_size=1, total_size=None):\n",
    "        self.total = total_size\n",
    "        self.update((block_num - self.last_block) * block_size)\n",
    "        self.last_block = block_num\n",
    "\n",
    "if not isfile(tar_gz_path):\n",
    "    with DLProgress(unit='B', unit_scale=True, miniters=1, desc='CIFAR-10 Dataset') as pbar:\n",
    "        urlretrieve(\n",
    "            'https://www.cs.toronto.edu/~kriz/cifar-10-python.tar.gz',\n",
    "            tar_gz_path,\n",
    "            pbar.hook)\n",
    "\n",
    "if not isdir(cifar10_dataset_folder_path):\n",
    "    with tarfile.open(tar_gz_path) as tar:\n",
    "        tar.extractall()\n",
    "        tar.close()\n",
    "\n",
    "\n",
    "tests.test_folder_path(cifar10_dataset_folder_path)"
   ]
  },
  {
   "cell_type": "markdown",
   "metadata": {},
   "source": [
    "## Explore the Data\n",
    "The dataset is broken into batches to prevent your machine from running out of memory.  The CIFAR-10 dataset consists of 5 batches, named `data_batch_1`, `data_batch_2`, etc.. Each batch contains the labels and images that are one of the following:\n",
    "* airplane\n",
    "* automobile\n",
    "* bird\n",
    "* cat\n",
    "* deer\n",
    "* dog\n",
    "* frog\n",
    "* horse\n",
    "* ship\n",
    "* truck\n",
    "\n",
    "Understanding a dataset is part of making predictions on the data.  Play around with the code cell below by changing the `batch_id` and `sample_id`. The `batch_id` is the id for a batch (1-5). The `sample_id` is the id for a image and label pair in the batch.\n",
    "\n",
    "Ask yourself \"What are all possible labels?\", \"What is the range of values for the image data?\", \"Are the labels in order or random?\".  Answers to questions like these will help you preprocess the data and end up with better predictions."
   ]
  },
  {
   "cell_type": "code",
   "execution_count": 15,
   "metadata": {
    "collapsed": false
   },
   "outputs": [
    {
     "name": "stdout",
     "output_type": "stream",
     "text": [
      "\n",
      "Stats of batch 1:\n",
      "Samples: 10000\n",
      "Label Counts: {0: 1005, 1: 974, 2: 1032, 3: 1016, 4: 999, 5: 937, 6: 1030, 7: 1001, 8: 1025, 9: 981}\n",
      "First 20 Labels: [6, 9, 9, 4, 1, 1, 2, 7, 8, 3, 4, 7, 7, 2, 9, 9, 9, 3, 2, 6]\n",
      "\n",
      "Example of Image 5:\n",
      "Image - Min Value: 0 Max Value: 252\n",
      "Image - Shape: (32, 32, 3)\n",
      "Label - Label Id: 1 Name: automobile\n"
     ]
    },
    {
     "data": {
      "image/png": "[encoded data removed]",
      "text/plain": [
       "<matplotlib.figure.Figure at 0x22848efbf98>"
      ]
     },
     "metadata": {
      "image/png": {
       "height": 250,
       "width": 253
      }
     },
     "output_type": "display_data"
    }
   ],
   "source": [
    "%matplotlib inline\n",
    "%config InlineBackend.figure_format = 'retina'\n",
    "\n",
    "import helper\n",
    "import numpy as np\n",
    "\n",
    "# Explore the dataset\n",
    "batch_id = 1\n",
    "sample_id = 5\n",
    "helper.display_stats(cifar10_dataset_folder_path, batch_id, sample_id)"
   ]
  },
  {
   "cell_type": "markdown",
   "metadata": {},
   "source": [
    "## Implement Preprocess Functions\n",
    "### Normalize\n",
    "In the cell below, implement the `normalize` function to take in image data, `x`, and return it as a normalized Numpy array. The values should be in the range of 0 to 1, inclusive.  The return object should be the same shape as `x`."
   ]
  },
  {
   "cell_type": "code",
   "execution_count": 14,
   "metadata": {
    "collapsed": false
   },
   "outputs": [
    {
     "name": "stdout",
     "output_type": "stream",
     "text": [
      "Tests Passed\n"
     ]
    }
   ],
   "source": [
    "def normalize(x):\n",
    "    \"\"\"\n",
    "    Normalize a list of sample image data in the range of 0 to 1\n",
    "    : x: List of image data.  The image shape is (32, 32, 3)\n",
    "    : return: Numpy array of normalize data\n",
    "    \"\"\"\n",
    "    return x / 255.\n",
    "\n",
    "\n",
    "\"\"\"\n",
    "DON'T MODIFY ANYTHING IN THIS CELL THAT IS BELOW THIS LINE\n",
    "\"\"\"\n",
    "tests.test_normalize(normalize)"
   ]
  },
  {
   "cell_type": "markdown",
   "metadata": {},
   "source": [
    "### One-hot encode\n",
    "Just like the previous code cell, you'll be implementing a function for preprocessing.  This time, you'll implement the `one_hot_encode` function. The input, `x`, are a list of labels.  Implement the function to return the list of labels as One-Hot encoded Numpy array.  The possible values for labels are 0 to 9. The one-hot encoding function should return the same encoding for each value between each call to `one_hot_encode`.  Make sure to save the map of encodings outside the function.\n",
    "\n",
    "Hint: Don't reinvent the wheel."
   ]
  },
  {
   "cell_type": "code",
   "execution_count": 37,
   "metadata": {
    "collapsed": false
   },
   "outputs": [
    {
     "name": "stdout",
     "output_type": "stream",
     "text": [
      "Tests Passed\n"
     ]
    }
   ],
   "source": [
    "from sklearn.preprocessing import OneHotEncoder\n",
    "\n",
    "def one_hot_encode(x):\n",
    "    \"\"\"\n",
    "    One hot encode a list of sample labels. Return a one-hot encoded vector for each label.\n",
    "    : x: List of sample Labels\n",
    "    : return: Numpy array of one-hot encoded labels\n",
    "    \"\"\"\n",
    "    x = np.array(x).reshape(-1, 1)\n",
    "    return OneHotEncoder(10, dtype=np.float32, sparse=False).fit_transform(x)\n",
    "\n",
    "\n",
    "\"\"\"\n",
    "DON'T MODIFY ANYTHING IN THIS CELL THAT IS BELOW THIS LINE\n",
    "\"\"\"\n",
    "tests.test_one_hot_encode(one_hot_encode)"
   ]
  },
  {
   "cell_type": "markdown",
   "metadata": {},
   "source": [
    "### Randomize Data\n",
    "As you saw from exploring the data above, the order of the samples are randomized.  It doesn't hurt to randomize it again, but you don't need to for this dataset."
   ]
  },
  {
   "cell_type": "markdown",
   "metadata": {},
   "source": [
    "## Preprocess all the data and save it\n",
    "Running the code cell below will preprocess all the CIFAR-10 data and save it to file. The code below also uses 10% of the training data for validation."
   ]
  },
  {
   "cell_type": "code",
   "execution_count": 38,
   "metadata": {
    "collapsed": false
   },
   "outputs": [],
   "source": [
    "\"\"\"\n",
    "DON'T MODIFY ANYTHING IN THIS CELL\n",
    "\"\"\"\n",
    "# Preprocess Training, Validation, and Testing Data\n",
    "helper.preprocess_and_save_data(cifar10_dataset_folder_path, normalize, one_hot_encode)"
   ]
  },
  {
   "cell_type": "markdown",
   "metadata": {},
   "source": [
    "# Check Point\n",
    "This is your first checkpoint.  If you ever decide to come back to this notebook or have to restart the notebook, you can start from here.  The preprocessed data has been saved to disk."
   ]
  },
  {
   "cell_type": "code",
   "execution_count": 39,
   "metadata": {
    "collapsed": true
   },
   "outputs": [],
   "source": [
    "\"\"\"\n",
    "DON'T MODIFY ANYTHING IN THIS CELL\n",
    "\"\"\"\n",
    "import pickle\n",
    "import problem_unittests as tests\n",
    "import helper\n",
    "\n",
    "# Load the Preprocessed Validation data\n",
    "valid_features, valid_labels = pickle.load(open('preprocess_validation.p', mode='rb'))"
   ]
  },
  {
   "cell_type": "markdown",
   "metadata": {},
   "source": [
    "## Build the network\n",
    "For the neural network, you'll build each layer into a function.  Most of the code you've seen has been outside of functions. To test your code more thoroughly, we require that you put each layer in a function.  This allows us to give you better feedback and test for simple mistakes using our unittests before you submit your project.\n",
    "\n",
    "If you're finding it hard to dedicate enough time for this course a week, we've provided a small shortcut to this part of the project. In the next couple of problems, you'll have the option to use [TensorFlow Layers](https://www.tensorflow.org/api_docs/python/tf/layers) or [TensorFlow Layers (contrib)](https://www.tensorflow.org/api_guides/python/contrib.layers) to build each layer, except \"Convolutional & Max Pooling\" layer.  TF Layers is similar to Keras's and TFLearn's abstraction to layers, so it's easy to pickup.\n",
    "\n",
    "If you would like to get the most of this course, try to solve all the problems without TF Layers.  Let's begin!\n",
    "### Input\n",
    "The neural network needs to read the image data, one-hot encoded labels, and dropout keep probability. Implement the following functions\n",
    "* Implement `neural_net_image_input`\n",
    " * Return a [TF Placeholder](https://www.tensorflow.org/api_docs/python/tf/placeholder)\n",
    " * Set the shape using `image_shape` with batch size set to `None`.\n",
    " * Name the TensorFlow placeholder \"x\" using the TensorFlow `name` parameter in the [TF Placeholder](https://www.tensorflow.org/api_docs/python/tf/placeholder).\n",
    "* Implement `neural_net_label_input`\n",
    " * Return a [TF Placeholder](https://www.tensorflow.org/api_docs/python/tf/placeholder)\n",
    " * Set the shape using `n_classes` with batch size set to `None`.\n",
    " * Name the TensorFlow placeholder \"y\" using the TensorFlow `name` parameter in the [TF Placeholder](https://www.tensorflow.org/api_docs/python/tf/placeholder).\n",
    "* Implement `neural_net_keep_prob_input`\n",
    " * Return a [TF Placeholder](https://www.tensorflow.org/api_docs/python/tf/placeholder) for dropout keep probability.\n",
    " * Name the TensorFlow placeholder \"keep_prob\" using the TensorFlow `name` parameter in the [TF Placeholder](https://www.tensorflow.org/api_docs/python/tf/placeholder).\n",
    "\n",
    "These names will be used at the end of the project to load your saved model.\n",
    "\n",
    "Note: `None` for shapes in TensorFlow allow for a dynamic size."
   ]
  },
  {
   "cell_type": "code",
   "execution_count": 40,
   "metadata": {
    "collapsed": false
   },
   "outputs": [
    {
     "name": "stdout",
     "output_type": "stream",
     "text": [
      "Image Input Tests Passed.\n",
      "Label Input Tests Passed.\n",
      "Keep Prob Tests Passed.\n"
     ]
    }
   ],
   "source": [
    "import tensorflow as tf\n",
    "\n",
    "def neural_net_image_input(image_shape):\n",
    "    \"\"\"\n",
    "    Return a Tensor for a bach of image input\n",
    "    : image_shape: Shape of the images\n",
    "    : return: Tensor for image input.\n",
    "    \"\"\"\n",
    "    return tf.placeholder(tf.float32, shape=(None,)+image_shape, name='x')\n",
    "\n",
    "\n",
    "def neural_net_label_input(n_classes):\n",
    "    \"\"\"\n",
    "    Return a Tensor for a batch of label input\n",
    "    : n_classes: Number of classes\n",
    "    : return: Tensor for label input.\n",
    "    \"\"\"\n",
    "    return tf.placeholder(tf.float32, shape=(None, n_classes), name='y')\n",
    "\n",
    "\n",
    "def neural_net_keep_prob_input():\n",
    "    \"\"\"\n",
    "    Return a Tensor for keep probability\n",
    "    : return: Tensor for keep probability.\n",
    "    \"\"\"\n",
    "    return tf.placeholder(tf.float32, name='keep_prob')\n",
    "\n",
    "\n",
    "\"\"\"\n",
    "DON'T MODIFY ANYTHING IN THIS CELL THAT IS BELOW THIS LINE\n",
    "\"\"\"\n",
    "tf.reset_default_graph()\n",
    "tests.test_nn_image_inputs(neural_net_image_input)\n",
    "tests.test_nn_label_inputs(neural_net_label_input)\n",
    "tests.test_nn_keep_prob_inputs(neural_net_keep_prob_input)"
   ]
  },
  {
   "cell_type": "markdown",
   "metadata": {},
   "source": [
    "### Convolution and Max Pooling Layer\n",
    "Convolution layers have a lot of success with images. For this code cell, you should implement the function `conv2d_maxpool` to apply convolution then max pooling:\n",
    "* Create the weight and bias using `conv_ksize`, `conv_num_outputs` and the shape of `x_tensor`.\n",
    "* Apply a convolution to `x_tensor` using weight and `conv_strides`.\n",
    " * We recommend you use same padding, but you're welcome to use any padding.\n",
    "* Add bias\n",
    "* Add a nonlinear activation to the convolution.\n",
    "* Apply Max Pooling using `pool_ksize` and `pool_strides`.\n",
    " * We recommend you use same padding, but you're welcome to use any padding.\n",
    "\n",
    "Note: You **can't** use [TensorFlow Layers](https://www.tensorflow.org/api_docs/python/tf/layers) or [TensorFlow Layers (contrib)](https://www.tensorflow.org/api_guides/python/contrib.layers) for this layer.  You're free to use any TensorFlow package for all the other layers."
   ]
  },
  {
   "cell_type": "code",
   "execution_count": 41,
   "metadata": {
    "collapsed": false
   },
   "outputs": [
    {
     "name": "stdout",
     "output_type": "stream",
     "text": [
      "Tests Passed\n"
     ]
    }
   ],
   "source": [
    "def conv2d_maxpool(x_tensor, conv_num_outputs, conv_ksize, conv_strides, pool_ksize, pool_strides):\n",
    "    \"\"\"\n",
    "    Apply convolution then max pooling to x_tensor\n",
    "    :param x_tensor: TensorFlow Tensor\n",
    "    :param conv_num_outputs: Number of outputs for the convolutional layer\n",
    "    :param conv_strides: Stride 2-D Tuple for convolution\n",
    "    :param pool_ksize: kernal size 2-D Tuple for pool\n",
    "    :param pool_strides: Stride 2-D Tuple for pool\n",
    "    : return: A tensor that represents convolution and max pooling of x_tensor\n",
    "    \"\"\"\n",
    "    \n",
    "    W_shape = (conv_ksize[0], conv_ksize[1], x_tensor.get_shape().as_list()[-1], conv_num_outputs)\n",
    "    b_shape = (conv_num_outputs,)\n",
    "    conv_strides_shape = (1, conv_strides[0], conv_strides[1], 1)\n",
    "    pool_shape = (1, pool_ksize[0], pool_ksize[1], 1)\n",
    "    pool_strides_shape = (1, pool_strides[0], pool_strides[1], 1)\n",
    "    \n",
    "    W = tf.Variable(tf.truncated_normal(W_shape))\n",
    "    b = tf.Variable(tf.zeros(b_shape))\n",
    "    \n",
    "    output = tf.nn.conv2d(x_tensor, W, conv_strides_shape, padding='SAME')\n",
    "    output = tf.nn.bias_add(output, b)\n",
    "    output = tf.nn.relu(output)\n",
    "    output = tf.nn.max_pool(output, pool_shape, pool_strides_shape, padding='SAME')\n",
    "    \n",
    "    return output\n",
    "\n",
    "\n",
    "\"\"\"\n",
    "DON'T MODIFY ANYTHING IN THIS CELL THAT IS BELOW THIS LINE\n",
    "\"\"\"\n",
    "tests.test_con_pool(conv2d_maxpool)"
   ]
  },
  {
   "cell_type": "markdown",
   "metadata": {},
   "source": [
    "### Flatten Layer\n",
    "Implement the `flatten` function to change the dimension of `x_tensor` from a 4-D tensor to a 2-D tensor.  The output should be the shape (*Batch Size*, *Flattened Image Size*). You can use [TensorFlow Layers](https://www.tensorflow.org/api_docs/python/tf/layers) or [TensorFlow Layers (contrib)](https://www.tensorflow.org/api_guides/python/contrib.layers) for this layer."
   ]
  },
  {
   "cell_type": "code",
   "execution_count": 42,
   "metadata": {
    "collapsed": false
   },
   "outputs": [
    {
     "name": "stdout",
     "output_type": "stream",
     "text": [
      "Tests Passed\n"
     ]
    }
   ],
   "source": [
    "def flatten(x_tensor):\n",
    "    \"\"\"\n",
    "    Flatten x_tensor to (Batch Size, Flattened Image Size)\n",
    "    : x_tensor: A tensor of size (Batch Size, ...), where ... are the image dimensions.\n",
    "    : return: A tensor of size (Batch Size, Flattened Image Size).\n",
    "    \"\"\"\n",
    "    return tf.contrib.layers.flatten(x_tensor)\n",
    "\n",
    "\n",
    "\"\"\"\n",
    "DON'T MODIFY ANYTHING IN THIS CELL THAT IS BELOW THIS LINE\n",
    "\"\"\"\n",
    "tests.test_flatten(flatten)"
   ]
  },
  {
   "cell_type": "markdown",
   "metadata": {},
   "source": [
    "### Fully-Connected Layer\n",
    "Implement the `fully_conn` function to apply a fully connected layer to `x_tensor` with the shape (*Batch Size*, *num_outputs*). You can use [TensorFlow Layers](https://www.tensorflow.org/api_docs/python/tf/layers) or [TensorFlow Layers (contrib)](https://www.tensorflow.org/api_guides/python/contrib.layers) for this layer."
   ]
  },
  {
   "cell_type": "code",
   "execution_count": 141,
   "metadata": {
    "collapsed": false
   },
   "outputs": [
    {
     "name": "stdout",
     "output_type": "stream",
     "text": [
      "Tests Passed\n"
     ]
    }
   ],
   "source": [
    "def fully_conn(x_tensor, num_outputs):\n",
    "    \"\"\"\n",
    "    Apply a fully connected layer to x_tensor using weight and bias\n",
    "    : x_tensor: A 2-D tensor where the first dimension is batch size.\n",
    "    : num_outputs: The number of output that the new tensor should be.\n",
    "    : return: A 2-D tensor where the second dimension is num_outputs.\n",
    "    \"\"\"\n",
    "    return tf.nn.relu(tf.layers.dense(x_tensor, num_outputs))\n",
    "\n",
    "\n",
    "\"\"\"\n",
    "DON'T MODIFY ANYTHING IN THIS CELL THAT IS BELOW THIS LINE\n",
    "\"\"\"\n",
    "tests.test_fully_conn(fully_conn)"
   ]
  },
  {
   "cell_type": "markdown",
   "metadata": {},
   "source": [
    "### Output Layer\n",
    "Implement the `output` function to apply a fully connected layer to `x_tensor` with the shape (*Batch Size*, *num_outputs*). You can use [TensorFlow Layers](https://www.tensorflow.org/api_docs/python/tf/layers) or [TensorFlow Layers (contrib)](https://www.tensorflow.org/api_guides/python/contrib.layers) for this layer.\n",
    "\n",
    "Note: Activation, softmax, or cross entropy shouldn't be applied to this."
   ]
  },
  {
   "cell_type": "code",
   "execution_count": 46,
   "metadata": {
    "collapsed": false
   },
   "outputs": [
    {
     "name": "stdout",
     "output_type": "stream",
     "text": [
      "Tests Passed\n"
     ]
    }
   ],
   "source": [
    "def output(x_tensor, num_outputs):\n",
    "    \"\"\"\n",
    "    Apply a output layer to x_tensor using weight and bias\n",
    "    : x_tensor: A 2-D tensor where the first dimension is batch size.\n",
    "    : num_outputs: The number of output that the new tensor should be.\n",
    "    : return: A 2-D tensor where the second dimension is num_outputs.\n",
    "    \"\"\"\n",
    "    return tf.layers.dense(x_tensor, num_outputs)\n",
    "\n",
    "\n",
    "\"\"\"\n",
    "DON'T MODIFY ANYTHING IN THIS CELL THAT IS BELOW THIS LINE\n",
    "\"\"\"\n",
    "tests.test_output(output)"
   ]
  },
  {
   "cell_type": "markdown",
   "metadata": {},
   "source": [
    "### Create Convolutional Model\n",
    "Implement the function `conv_net` to create a convolutional neural network model. The function takes in a batch of images, `x`, and outputs logits.  Use the layers you created above to create this model:\n",
    "\n",
    "* Apply 1, 2, or 3 Convolution and Max Pool layers\n",
    "* Apply a Flatten Layer\n",
    "* Apply 1, 2, or 3 Fully Connected Layers\n",
    "* Apply an Output Layer\n",
    "* Return the output\n",
    "* Apply [TensorFlow's Dropout](https://www.tensorflow.org/api_docs/python/tf/nn/dropout) to one or more layers in the model using `keep_prob`. "
   ]
  },
  {
   "cell_type": "code",
   "execution_count": 136,
   "metadata": {
    "collapsed": false
   },
   "outputs": [
    {
     "name": "stdout",
     "output_type": "stream",
     "text": [
      "Neural Network Built!\n"
     ]
    }
   ],
   "source": [
    "def conv_net(x, keep_prob):\n",
    "    \"\"\"\n",
    "    Create a convolutional neural network model\n",
    "    : x: Placeholder tensor that holds image data.\n",
    "    : keep_prob: Placeholder tensor that hold dropout keep probability.\n",
    "    : return: Tensor that represents logits\n",
    "    \"\"\"\n",
    "    \n",
    "    y = conv2d_maxpool(x, 32, conv_ksize=(7,7), conv_strides=(2,2), pool_ksize=(2,2), pool_strides=(2,2))\n",
    "    y = flatten(y)\n",
    "    y = fully_conn(y, 30)\n",
    "    y = tf.nn.dropout(y, keep_prob)\n",
    "    y = output(y, 10)\n",
    "    \n",
    "    return y\n",
    "\n",
    "\n",
    "\"\"\"\n",
    "DON'T MODIFY ANYTHING IN THIS CELL THAT IS BELOW THIS LINE\n",
    "\"\"\"\n",
    "\n",
    "##############################\n",
    "## Build the Neural Network ##\n",
    "##############################\n",
    "\n",
    "# Remove previous weights, bias, inputs, etc..\n",
    "tf.reset_default_graph()\n",
    "\n",
    "# Inputs\n",
    "x = neural_net_image_input((32, 32, 3))\n",
    "y = neural_net_label_input(10)\n",
    "keep_prob = neural_net_keep_prob_input()\n",
    "\n",
    "# Model\n",
    "logits = conv_net(x, keep_prob)\n",
    "\n",
    "# Name logits Tensor, so that is can be loaded from disk after training\n",
    "logits = tf.identity(logits, name='logits')\n",
    "\n",
    "# Loss and Optimizer\n",
    "cost = tf.reduce_mean(tf.nn.softmax_cross_entropy_with_logits(logits=logits, labels=y))\n",
    "optimizer = tf.train.AdamOptimizer().minimize(cost)\n",
    "\n",
    "# Accuracy\n",
    "correct_pred = tf.equal(tf.argmax(logits, 1), tf.argmax(y, 1))\n",
    "accuracy = tf.reduce_mean(tf.cast(correct_pred, tf.float32), name='accuracy')\n",
    "\n",
    "tests.test_conv_net(conv_net)"
   ]
  },
  {
   "cell_type": "markdown",
   "metadata": {},
   "source": [
    "## Train the Neural Network\n",
    "### Single Optimization\n",
    "Implement the function `train_neural_network` to do a single optimization.  The optimization should use `optimizer` to optimize in `session` with a `feed_dict` of the following:\n",
    "* `x` for image input\n",
    "* `y` for labels\n",
    "* `keep_prob` for keep probability for dropout\n",
    "\n",
    "This function will be called for each batch, so `tf.global_variables_initializer()` has already been called.\n",
    "\n",
    "Note: Nothing needs to be returned. This function is only optimizing the neural network."
   ]
  },
  {
   "cell_type": "code",
   "execution_count": 58,
   "metadata": {
    "collapsed": false
   },
   "outputs": [
    {
     "name": "stdout",
     "output_type": "stream",
     "text": [
      "Tests Passed\n"
     ]
    }
   ],
   "source": [
    "def train_neural_network(session, optimizer, keep_probability, feature_batch, label_batch):\n",
    "    \"\"\"\n",
    "    Optimize the session on a batch of images and labels\n",
    "    : session: Current TensorFlow session\n",
    "    : optimizer: TensorFlow optimizer function\n",
    "    : keep_probability: keep probability\n",
    "    : feature_batch: Batch of Numpy image data\n",
    "    : label_batch: Batch of Numpy label data\n",
    "    \"\"\"\n",
    "    session.run(optimizer, feed_dict={'x:0': feature_batch, 'y:0': label_batch, 'keep_prob:0': keep_probability})\n",
    "\n",
    "\n",
    "\"\"\"\n",
    "DON'T MODIFY ANYTHING IN THIS CELL THAT IS BELOW THIS LINE\n",
    "\"\"\"\n",
    "tests.test_train_nn(train_neural_network)"
   ]
  },
  {
   "cell_type": "markdown",
   "metadata": {},
   "source": [
    "### Show Stats\n",
    "Implement the function `print_stats` to print loss and validation accuracy.  Use the global variables `valid_features` and `valid_labels` to calculate validation accuracy.  Use a keep probability of `1.0` to calculate the loss and validation accuracy."
   ]
  },
  {
   "cell_type": "code",
   "execution_count": 118,
   "metadata": {
    "collapsed": false
   },
   "outputs": [],
   "source": [
    "def print_stats(session, feature_batch, label_batch, cost, accuracy):\n",
    "    \"\"\"\n",
    "    Print information about loss and validation accuracy\n",
    "    : session: Current TensorFlow session\n",
    "    : feature_batch: Batch of Numpy image data\n",
    "    : label_batch: Batch of Numpy label data\n",
    "    : cost: TensorFlow cost function\n",
    "    : accuracy: TensorFlow accuracy function\n",
    "    \"\"\"\n",
    "    global valid_features, valid_labels\n",
    "    _cost = session.run(cost, feed_dict={'x:0': feature_batch, 'y:0': label_batch, 'keep_prob:0': 1.0})\n",
    "    _accuracy = session.run(accuracy, feed_dict={'x:0': feature_batch, 'y:0': label_batch, 'keep_prob:0': 1.0})\n",
    "    _cost_valid = session.run(cost, feed_dict={'x:0': valid_features, 'y:0': valid_labels, 'keep_prob:0': 1.0})\n",
    "    _accuracy_valid = session.run(accuracy, feed_dict={'x:0': valid_features, 'y:0': valid_labels, 'keep_prob:0': 1.0})\n",
    "    print('Training cost: {:.4f}, accuracy: {:.4f} / validation cost: {:.4f}, accuracy: {:.4f}'.format(\n",
    "          _cost, _accuracy, _cost_valid, _accuracy_valid))"
   ]
  },
  {
   "cell_type": "markdown",
   "metadata": {},
   "source": [
    "### Hyperparameters\n",
    "Tune the following parameters:\n",
    "* Set `epochs` to the number of iterations until the network stops learning or start overfitting\n",
    "* Set `batch_size` to the highest number that your machine has memory for.  Most people set them to common sizes of memory:\n",
    " * 64\n",
    " * 128\n",
    " * 256\n",
    " * ...\n",
    "* Set `keep_probability` to the probability of keeping a node using dropout"
   ]
  },
  {
   "cell_type": "code",
   "execution_count": 137,
   "metadata": {
    "collapsed": true
   },
   "outputs": [],
   "source": [
    "epochs = 20\n",
    "batch_size = 128\n",
    "keep_probability = 0.5"
   ]
  },
  {
   "cell_type": "markdown",
   "metadata": {},
   "source": [
    "### Train on a Single CIFAR-10 Batch\n",
    "Instead of training the neural network on all the CIFAR-10 batches of data, let's use a single batch. This should save time while you iterate on the model to get a better accuracy.  Once the final validation accuracy is 50% or greater, run the model on all the data in the next section."
   ]
  },
  {
   "cell_type": "code",
   "execution_count": 142,
   "metadata": {
    "collapsed": false,
    "scrolled": true
   },
   "outputs": [
    {
     "name": "stdout",
     "output_type": "stream",
     "text": [
      "Checking the Training on a Single Batch...\n",
      "Epoch  1, CIFAR-10 Batch 1:  Training cost: 2.9554, accuracy: 0.1500 / validation cost: 2.5884, accuracy: 0.2676\n",
      "Epoch  2, CIFAR-10 Batch 1:  Training cost: 1.9752, accuracy: 0.4250 / validation cost: 2.0225, accuracy: 0.3396\n",
      "Epoch  3, CIFAR-10 Batch 1:  Training cost: 1.5016, accuracy: 0.4750 / validation cost: 1.7357, accuracy: 0.3960\n",
      "Epoch  4, CIFAR-10 Batch 1:  Training cost: 1.3964, accuracy: 0.5250 / validation cost: 1.6512, accuracy: 0.4366\n",
      "Epoch  5, CIFAR-10 Batch 1:  Training cost: 1.2240, accuracy: 0.6250 / validation cost: 1.6899, accuracy: 0.4200\n",
      "Epoch  6, CIFAR-10 Batch 1:  Training cost: 1.0630, accuracy: 0.6500 / validation cost: 1.5710, accuracy: 0.4444\n",
      "Epoch  7, CIFAR-10 Batch 1:  Training cost: 1.0171, accuracy: 0.6500 / validation cost: 1.4841, accuracy: 0.4770\n",
      "Epoch  8, CIFAR-10 Batch 1:  Training cost: 1.0770, accuracy: 0.7000 / validation cost: 1.5062, accuracy: 0.4686\n",
      "Epoch  9, CIFAR-10 Batch 1:  Training cost: 1.0293, accuracy: 0.7500 / validation cost: 1.4504, accuracy: 0.4948\n",
      "Epoch 10, CIFAR-10 Batch 1:  Training cost: 1.0191, accuracy: 0.7000 / validation cost: 1.4760, accuracy: 0.4910\n",
      "Epoch 11, CIFAR-10 Batch 1:  Training cost: 0.9722, accuracy: 0.7000 / validation cost: 1.4278, accuracy: 0.5024\n",
      "Epoch 12, CIFAR-10 Batch 1:  Training cost: 0.9596, accuracy: 0.7250 / validation cost: 1.4344, accuracy: 0.5024\n",
      "Epoch 13, CIFAR-10 Batch 1:  Training cost: 0.8941, accuracy: 0.7500 / validation cost: 1.4099, accuracy: 0.5098\n",
      "Epoch 14, CIFAR-10 Batch 1:  Training cost: 0.8629, accuracy: 0.7250 / validation cost: 1.3991, accuracy: 0.5154\n",
      "Epoch 15, CIFAR-10 Batch 1:  Training cost: 0.8153, accuracy: 0.8000 / validation cost: 1.4153, accuracy: 0.5008\n",
      "Epoch 16, CIFAR-10 Batch 1:  Training cost: 0.7666, accuracy: 0.7750 / validation cost: 1.3902, accuracy: 0.5226\n",
      "Epoch 17, CIFAR-10 Batch 1:  Training cost: 0.7557, accuracy: 0.8000 / validation cost: 1.3673, accuracy: 0.5238\n",
      "Epoch 18, CIFAR-10 Batch 1:  Training cost: 0.7309, accuracy: 0.7750 / validation cost: 1.3810, accuracy: 0.5176\n",
      "Epoch 19, CIFAR-10 Batch 1:  Training cost: 0.6685, accuracy: 0.8000 / validation cost: 1.3713, accuracy: 0.5228\n",
      "Epoch 20, CIFAR-10 Batch 1:  Training cost: 0.6672, accuracy: 0.7750 / validation cost: 1.3782, accuracy: 0.5230\n"
     ]
    }
   ],
   "source": [
    "\"\"\"\n",
    "DON'T MODIFY ANYTHING IN THIS CELL\n",
    "\"\"\"\n",
    "print('Checking the Training on a Single Batch...')\n",
    "with tf.Session() as sess:\n",
    "    # Initializing the variables\n",
    "    sess.run(tf.global_variables_initializer())\n",
    "    \n",
    "    # Training cycle\n",
    "    for epoch in range(epochs):\n",
    "        batch_i = 1\n",
    "        for batch_features, batch_labels in helper.load_preprocess_training_batch(batch_i, batch_size):\n",
    "            train_neural_network(sess, optimizer, keep_probability, batch_features, batch_labels)\n",
    "        print('Epoch {:>2}, CIFAR-10 Batch {}:  '.format(epoch + 1, batch_i), end='')\n",
    "        print_stats(sess, batch_features, batch_labels, cost, accuracy)"
   ]
  },
  {
   "cell_type": "markdown",
   "metadata": {},
   "source": [
    "### Fully Train the Model\n",
    "Now that you got a good accuracy with a single CIFAR-10 batch, try it with all five batches."
   ]
  },
  {
   "cell_type": "code",
   "execution_count": 143,
   "metadata": {
    "collapsed": false
   },
   "outputs": [
    {
     "name": "stdout",
     "output_type": "stream",
     "text": [
      "Training...\n",
      "Epoch  1, CIFAR-10 Batch 1:  Training cost: 2.8270, accuracy: 0.2750 / validation cost: 2.5302, accuracy: 0.2718\n",
      "Epoch  1, CIFAR-10 Batch 2:  Training cost: 1.8133, accuracy: 0.4250 / validation cost: 2.0010, accuracy: 0.3480\n",
      "Epoch  1, CIFAR-10 Batch 3:  Training cost: 1.7139, accuracy: 0.4500 / validation cost: 1.8077, accuracy: 0.3944\n",
      "Epoch  1, CIFAR-10 Batch 4:  Training cost: 1.5482, accuracy: 0.4750 / validation cost: 1.6986, accuracy: 0.3982\n",
      "Epoch  1, CIFAR-10 Batch 5:  Training cost: 1.7112, accuracy: 0.3750 / validation cost: 1.6319, accuracy: 0.4230\n",
      "Epoch  2, CIFAR-10 Batch 1:  Training cost: 1.6818, accuracy: 0.3500 / validation cost: 1.5175, accuracy: 0.4644\n",
      "Epoch  2, CIFAR-10 Batch 2:  Training cost: 1.4629, accuracy: 0.5750 / validation cost: 1.4977, accuracy: 0.4650\n",
      "Epoch  2, CIFAR-10 Batch 3:  Training cost: 1.3428, accuracy: 0.5500 / validation cost: 1.4627, accuracy: 0.4716\n",
      "Epoch  2, CIFAR-10 Batch 4:  Training cost: 1.3329, accuracy: 0.5000 / validation cost: 1.4362, accuracy: 0.4848\n",
      "Epoch  2, CIFAR-10 Batch 5:  Training cost: 1.3801, accuracy: 0.5500 / validation cost: 1.4315, accuracy: 0.4926\n",
      "Epoch  3, CIFAR-10 Batch 1:  Training cost: 1.4689, accuracy: 0.4500 / validation cost: 1.3768, accuracy: 0.5190\n",
      "Epoch  3, CIFAR-10 Batch 2:  Training cost: 1.2637, accuracy: 0.6250 / validation cost: 1.3581, accuracy: 0.5254\n",
      "Epoch  3, CIFAR-10 Batch 3:  Training cost: 1.1341, accuracy: 0.6000 / validation cost: 1.3913, accuracy: 0.5072\n",
      "Epoch  3, CIFAR-10 Batch 4:  Training cost: 1.3009, accuracy: 0.5250 / validation cost: 1.3448, accuracy: 0.5282\n",
      "Epoch  3, CIFAR-10 Batch 5:  Training cost: 1.2451, accuracy: 0.6000 / validation cost: 1.3476, accuracy: 0.5298\n",
      "Epoch  4, CIFAR-10 Batch 1:  Training cost: 1.3290, accuracy: 0.5250 / validation cost: 1.3175, accuracy: 0.5424\n",
      "Epoch  4, CIFAR-10 Batch 2:  Training cost: 1.1084, accuracy: 0.6250 / validation cost: 1.3033, accuracy: 0.5500\n",
      "Epoch  4, CIFAR-10 Batch 3:  Training cost: 1.0754, accuracy: 0.5750 / validation cost: 1.3228, accuracy: 0.5326\n",
      "Epoch  4, CIFAR-10 Batch 4:  Training cost: 1.2447, accuracy: 0.5000 / validation cost: 1.3043, accuracy: 0.5384\n",
      "Epoch  4, CIFAR-10 Batch 5:  Training cost: 1.2201, accuracy: 0.6250 / validation cost: 1.3135, accuracy: 0.5368\n",
      "Epoch  5, CIFAR-10 Batch 1:  Training cost: 1.2374, accuracy: 0.5750 / validation cost: 1.2886, accuracy: 0.5584\n",
      "Epoch  5, CIFAR-10 Batch 2:  Training cost: 1.1053, accuracy: 0.5500 / validation cost: 1.2863, accuracy: 0.5530\n",
      "Epoch  5, CIFAR-10 Batch 3:  Training cost: 0.9962, accuracy: 0.6250 / validation cost: 1.3124, accuracy: 0.5360\n",
      "Epoch  5, CIFAR-10 Batch 4:  Training cost: 1.1769, accuracy: 0.6250 / validation cost: 1.2602, accuracy: 0.5630\n",
      "Epoch  5, CIFAR-10 Batch 5:  Training cost: 1.1510, accuracy: 0.7250 / validation cost: 1.2913, accuracy: 0.5428\n",
      "Epoch  6, CIFAR-10 Batch 1:  Training cost: 1.1659, accuracy: 0.6000 / validation cost: 1.2655, accuracy: 0.5658\n",
      "Epoch  6, CIFAR-10 Batch 2:  Training cost: 1.0573, accuracy: 0.6750 / validation cost: 1.2563, accuracy: 0.5624\n",
      "Epoch  6, CIFAR-10 Batch 3:  Training cost: 0.9297, accuracy: 0.7000 / validation cost: 1.3068, accuracy: 0.5498\n",
      "Epoch  6, CIFAR-10 Batch 4:  Training cost: 1.1406, accuracy: 0.7000 / validation cost: 1.2434, accuracy: 0.5674\n",
      "Epoch  6, CIFAR-10 Batch 5:  Training cost: 1.1346, accuracy: 0.6750 / validation cost: 1.2512, accuracy: 0.5618\n",
      "Epoch  7, CIFAR-10 Batch 1:  Training cost: 1.1274, accuracy: 0.6000 / validation cost: 1.2561, accuracy: 0.5674\n",
      "Epoch  7, CIFAR-10 Batch 2:  Training cost: 1.0367, accuracy: 0.6750 / validation cost: 1.2278, accuracy: 0.5758\n",
      "Epoch  7, CIFAR-10 Batch 3:  Training cost: 0.8718, accuracy: 0.6750 / validation cost: 1.2502, accuracy: 0.5622\n",
      "Epoch  7, CIFAR-10 Batch 4:  Training cost: 1.0753, accuracy: 0.6000 / validation cost: 1.2280, accuracy: 0.5758\n",
      "Epoch  7, CIFAR-10 Batch 5:  Training cost: 1.1024, accuracy: 0.6250 / validation cost: 1.2635, accuracy: 0.5536\n",
      "Epoch  8, CIFAR-10 Batch 1:  Training cost: 1.1076, accuracy: 0.6250 / validation cost: 1.2176, accuracy: 0.5758\n",
      "Epoch  8, CIFAR-10 Batch 2:  Training cost: 0.9815, accuracy: 0.6750 / validation cost: 1.2149, accuracy: 0.5788\n",
      "Epoch  8, CIFAR-10 Batch 3:  Training cost: 0.8361, accuracy: 0.7250 / validation cost: 1.2708, accuracy: 0.5598\n",
      "Epoch  8, CIFAR-10 Batch 4:  Training cost: 1.0693, accuracy: 0.7000 / validation cost: 1.2120, accuracy: 0.5746\n",
      "Epoch  8, CIFAR-10 Batch 5:  Training cost: 1.0496, accuracy: 0.6500 / validation cost: 1.2387, accuracy: 0.5662\n",
      "Epoch  9, CIFAR-10 Batch 1:  Training cost: 1.0803, accuracy: 0.6250 / validation cost: 1.2099, accuracy: 0.5850\n",
      "Epoch  9, CIFAR-10 Batch 2:  Training cost: 0.9720, accuracy: 0.7750 / validation cost: 1.2035, accuracy: 0.5754\n",
      "Epoch  9, CIFAR-10 Batch 3:  Training cost: 0.8306, accuracy: 0.7250 / validation cost: 1.2391, accuracy: 0.5714\n",
      "Epoch  9, CIFAR-10 Batch 4:  Training cost: 1.0620, accuracy: 0.6250 / validation cost: 1.2074, accuracy: 0.5806\n",
      "Epoch  9, CIFAR-10 Batch 5:  Training cost: 0.9835, accuracy: 0.6500 / validation cost: 1.2149, accuracy: 0.5748\n",
      "Epoch 10, CIFAR-10 Batch 1:  Training cost: 1.0754, accuracy: 0.6000 / validation cost: 1.2076, accuracy: 0.5840\n",
      "Epoch 10, CIFAR-10 Batch 2:  Training cost: 0.9187, accuracy: 0.7250 / validation cost: 1.2057, accuracy: 0.5774\n",
      "Epoch 10, CIFAR-10 Batch 3:  Training cost: 0.7960, accuracy: 0.7250 / validation cost: 1.2398, accuracy: 0.5682\n",
      "Epoch 10, CIFAR-10 Batch 4:  Training cost: 0.9443, accuracy: 0.7250 / validation cost: 1.1874, accuracy: 0.5864\n",
      "Epoch 10, CIFAR-10 Batch 5:  Training cost: 0.9992, accuracy: 0.6500 / validation cost: 1.2367, accuracy: 0.5666\n",
      "Epoch 11, CIFAR-10 Batch 1:  Training cost: 1.0440, accuracy: 0.6500 / validation cost: 1.1869, accuracy: 0.5910\n",
      "Epoch 11, CIFAR-10 Batch 2:  Training cost: 0.8923, accuracy: 0.7750 / validation cost: 1.1924, accuracy: 0.5834\n",
      "Epoch 11, CIFAR-10 Batch 3:  Training cost: 0.7957, accuracy: 0.6750 / validation cost: 1.2098, accuracy: 0.5756\n",
      "Epoch 11, CIFAR-10 Batch 4:  Training cost: 0.9382, accuracy: 0.7000 / validation cost: 1.1769, accuracy: 0.5906\n",
      "Epoch 11, CIFAR-10 Batch 5:  Training cost: 0.9390, accuracy: 0.7250 / validation cost: 1.2013, accuracy: 0.5790\n",
      "Epoch 12, CIFAR-10 Batch 1:  Training cost: 0.9927, accuracy: 0.6250 / validation cost: 1.1972, accuracy: 0.5860\n",
      "Epoch 12, CIFAR-10 Batch 2:  Training cost: 0.8707, accuracy: 0.7500 / validation cost: 1.1686, accuracy: 0.5952\n",
      "Epoch 12, CIFAR-10 Batch 3:  Training cost: 0.7462, accuracy: 0.7250 / validation cost: 1.2413, accuracy: 0.5672\n",
      "Epoch 12, CIFAR-10 Batch 4:  Training cost: 0.9439, accuracy: 0.7000 / validation cost: 1.1732, accuracy: 0.5966\n",
      "Epoch 12, CIFAR-10 Batch 5:  Training cost: 0.8858, accuracy: 0.7500 / validation cost: 1.1791, accuracy: 0.5848\n",
      "Epoch 13, CIFAR-10 Batch 1:  Training cost: 0.9774, accuracy: 0.6500 / validation cost: 1.1900, accuracy: 0.5878\n",
      "Epoch 13, CIFAR-10 Batch 2:  Training cost: 0.8629, accuracy: 0.7500 / validation cost: 1.1695, accuracy: 0.5934\n",
      "Epoch 13, CIFAR-10 Batch 3:  Training cost: 0.7225, accuracy: 0.8500 / validation cost: 1.1875, accuracy: 0.5918\n",
      "Epoch 13, CIFAR-10 Batch 4:  Training cost: 0.9080, accuracy: 0.7250 / validation cost: 1.1688, accuracy: 0.5988\n",
      "Epoch 13, CIFAR-10 Batch 5:  Training cost: 0.8595, accuracy: 0.7750 / validation cost: 1.1924, accuracy: 0.5802\n",
      "Epoch 14, CIFAR-10 Batch 1:  Training cost: 0.9665, accuracy: 0.6500 / validation cost: 1.1869, accuracy: 0.5872\n",
      "Epoch 14, CIFAR-10 Batch 2:  Training cost: 0.8443, accuracy: 0.7500 / validation cost: 1.1610, accuracy: 0.5934\n",
      "Epoch 14, CIFAR-10 Batch 3:  Training cost: 0.7075, accuracy: 0.8000 / validation cost: 1.1732, accuracy: 0.5932\n",
      "Epoch 14, CIFAR-10 Batch 4:  Training cost: 0.8707, accuracy: 0.6500 / validation cost: 1.1598, accuracy: 0.5980\n",
      "Epoch 14, CIFAR-10 Batch 5:  Training cost: 0.8841, accuracy: 0.6750 / validation cost: 1.2204, accuracy: 0.5712\n",
      "Epoch 15, CIFAR-10 Batch 1:  Training cost: 0.9457, accuracy: 0.6000 / validation cost: 1.1818, accuracy: 0.5896\n",
      "Epoch 15, CIFAR-10 Batch 2:  Training cost: 0.8882, accuracy: 0.7500 / validation cost: 1.1480, accuracy: 0.5978\n",
      "Epoch 15, CIFAR-10 Batch 3:  Training cost: 0.6635, accuracy: 0.8250 / validation cost: 1.2013, accuracy: 0.5848\n",
      "Epoch 15, CIFAR-10 Batch 4:  Training cost: 0.8695, accuracy: 0.7750 / validation cost: 1.1606, accuracy: 0.6006\n",
      "Epoch 15, CIFAR-10 Batch 5:  Training cost: 0.8445, accuracy: 0.7000 / validation cost: 1.1702, accuracy: 0.5926\n",
      "Epoch 16, CIFAR-10 Batch 1:  Training cost: 0.9318, accuracy: 0.7250 / validation cost: 1.1601, accuracy: 0.5968\n",
      "Epoch 16, CIFAR-10 Batch 2:  Training cost: 0.8148, accuracy: 0.7750 / validation cost: 1.1486, accuracy: 0.6038\n",
      "Epoch 16, CIFAR-10 Batch 3:  Training cost: 0.6664, accuracy: 0.8000 / validation cost: 1.1715, accuracy: 0.5994\n",
      "Epoch 16, CIFAR-10 Batch 4:  Training cost: 0.8186, accuracy: 0.7500 / validation cost: 1.1487, accuracy: 0.6018\n",
      "Epoch 16, CIFAR-10 Batch 5:  Training cost: 0.8077, accuracy: 0.8000 / validation cost: 1.1801, accuracy: 0.5846\n",
      "Epoch 17, CIFAR-10 Batch 1:  Training cost: 0.8950, accuracy: 0.7000 / validation cost: 1.1766, accuracy: 0.5920\n",
      "Epoch 17, CIFAR-10 Batch 2:  Training cost: 0.8073, accuracy: 0.7500 / validation cost: 1.1474, accuracy: 0.6010\n",
      "Epoch 17, CIFAR-10 Batch 3:  Training cost: 0.6169, accuracy: 0.7750 / validation cost: 1.1781, accuracy: 0.5928\n",
      "Epoch 17, CIFAR-10 Batch 4:  Training cost: 0.8146, accuracy: 0.7250 / validation cost: 1.1423, accuracy: 0.6054\n",
      "Epoch 17, CIFAR-10 Batch 5:  Training cost: 0.8280, accuracy: 0.7250 / validation cost: 1.1826, accuracy: 0.5894\n",
      "Epoch 18, CIFAR-10 Batch 1:  Training cost: 0.9412, accuracy: 0.6500 / validation cost: 1.1771, accuracy: 0.5894\n",
      "Epoch 18, CIFAR-10 Batch 2:  Training cost: 0.7556, accuracy: 0.7750 / validation cost: 1.1505, accuracy: 0.6080\n",
      "Epoch 18, CIFAR-10 Batch 3:  Training cost: 0.6285, accuracy: 0.7750 / validation cost: 1.1807, accuracy: 0.5928\n",
      "Epoch 18, CIFAR-10 Batch 4:  Training cost: 0.8948, accuracy: 0.7500 / validation cost: 1.1502, accuracy: 0.6028\n",
      "Epoch 18, CIFAR-10 Batch 5:  Training cost: 0.7698, accuracy: 0.8000 / validation cost: 1.1499, accuracy: 0.6014\n",
      "Epoch 19, CIFAR-10 Batch 1:  Training cost: 0.8925, accuracy: 0.6750 / validation cost: 1.1604, accuracy: 0.6022\n",
      "Epoch 19, CIFAR-10 Batch 2:  Training cost: 0.7714, accuracy: 0.7750 / validation cost: 1.1445, accuracy: 0.6024\n",
      "Epoch 19, CIFAR-10 Batch 3:  Training cost: 0.6043, accuracy: 0.8250 / validation cost: 1.1534, accuracy: 0.6010\n",
      "Epoch 19, CIFAR-10 Batch 4:  Training cost: 0.8456, accuracy: 0.7250 / validation cost: 1.1351, accuracy: 0.6094\n",
      "Epoch 19, CIFAR-10 Batch 5:  Training cost: 0.8121, accuracy: 0.7500 / validation cost: 1.1891, accuracy: 0.5832\n",
      "Epoch 20, CIFAR-10 Batch 1:  Training cost: 0.8791, accuracy: 0.7000 / validation cost: 1.1377, accuracy: 0.6070\n",
      "Epoch 20, CIFAR-10 Batch 2:  Training cost: 0.7834, accuracy: 0.7500 / validation cost: 1.1372, accuracy: 0.6106\n",
      "Epoch 20, CIFAR-10 Batch 3:  Training cost: 0.5913, accuracy: 0.8500 / validation cost: 1.1588, accuracy: 0.6020\n",
      "Epoch 20, CIFAR-10 Batch 4:  Training cost: 0.8257, accuracy: 0.7500 / validation cost: 1.1346, accuracy: 0.6090\n",
      "Epoch 20, CIFAR-10 Batch 5:  Training cost: 0.7988, accuracy: 0.7250 / validation cost: 1.1759, accuracy: 0.5872\n"
     ]
    }
   ],
   "source": [
    "\"\"\"\n",
    "DON'T MODIFY ANYTHING IN THIS CELL\n",
    "\"\"\"\n",
    "save_model_path = './image_classification'\n",
    "\n",
    "print('Training...')\n",
    "with tf.Session() as sess:\n",
    "    # Initializing the variables\n",
    "    sess.run(tf.global_variables_initializer())\n",
    "    \n",
    "    # Training cycle\n",
    "    for epoch in range(epochs):\n",
    "        # Loop over all batches\n",
    "        n_batches = 5\n",
    "        for batch_i in range(1, n_batches + 1):\n",
    "            for batch_features, batch_labels in helper.load_preprocess_training_batch(batch_i, batch_size):\n",
    "                train_neural_network(sess, optimizer, keep_probability, batch_features, batch_labels)\n",
    "            print('Epoch {:>2}, CIFAR-10 Batch {}:  '.format(epoch + 1, batch_i), end='')\n",
    "            print_stats(sess, batch_features, batch_labels, cost, accuracy)\n",
    "            \n",
    "    # Save Model\n",
    "    saver = tf.train.Saver()\n",
    "    save_path = saver.save(sess, save_model_path)"
   ]
  },
  {
   "cell_type": "markdown",
   "metadata": {},
   "source": [
    "# Checkpoint\n",
    "The model has been saved to disk.\n",
    "## Test Model\n",
    "Test your model against the test dataset.  This will be your final accuracy. You should have an accuracy greater than 50%. If you don't, keep tweaking the model architecture and parameters."
   ]
  },
  {
   "cell_type": "code",
   "execution_count": 144,
   "metadata": {
    "collapsed": false
   },
   "outputs": [
    {
     "name": "stdout",
     "output_type": "stream",
     "text": [
      "Testing Accuracy: 0.5933544303797469\n",
      "\n"
     ]
    },
    {
     "data": {
      "image/png": "[encoded data removed]",
      "text/plain": [
       "<matplotlib.figure.Figure at 0x228e1d8b198>"
      ]
     },
     "metadata": {
      "image/png": {
       "height": 319,
       "width": 355
      }
     },
     "output_type": "display_data"
    }
   ],
   "source": [
    "\"\"\"\n",
    "DON'T MODIFY ANYTHING IN THIS CELL\n",
    "\"\"\"\n",
    "%matplotlib inline\n",
    "%config InlineBackend.figure_format = 'retina'\n",
    "\n",
    "import tensorflow as tf\n",
    "import pickle\n",
    "import helper\n",
    "import random\n",
    "\n",
    "# Set batch size if not already set\n",
    "try:\n",
    "    if batch_size:\n",
    "        pass\n",
    "except NameError:\n",
    "    batch_size = 64\n",
    "\n",
    "save_model_path = './image_classification'\n",
    "n_samples = 4\n",
    "top_n_predictions = 3\n",
    "\n",
    "def test_model():\n",
    "    \"\"\"\n",
    "    Test the saved model against the test dataset\n",
    "    \"\"\"\n",
    "\n",
    "    test_features, test_labels = pickle.load(open('preprocess_training.p', mode='rb'))\n",
    "    loaded_graph = tf.Graph()\n",
    "\n",
    "    with tf.Session(graph=loaded_graph) as sess:\n",
    "        # Load model\n",
    "        loader = tf.train.import_meta_graph(save_model_path + '.meta')\n",
    "        loader.restore(sess, save_model_path)\n",
    "\n",
    "        # Get Tensors from loaded model\n",
    "        loaded_x = loaded_graph.get_tensor_by_name('x:0')\n",
    "        loaded_y = loaded_graph.get_tensor_by_name('y:0')\n",
    "        loaded_keep_prob = loaded_graph.get_tensor_by_name('keep_prob:0')\n",
    "        loaded_logits = loaded_graph.get_tensor_by_name('logits:0')\n",
    "        loaded_acc = loaded_graph.get_tensor_by_name('accuracy:0')\n",
    "        \n",
    "        # Get accuracy in batches for memory limitations\n",
    "        test_batch_acc_total = 0\n",
    "        test_batch_count = 0\n",
    "        \n",
    "        for train_feature_batch, train_label_batch in helper.batch_features_labels(test_features, test_labels, batch_size):\n",
    "            test_batch_acc_total += sess.run(\n",
    "                loaded_acc,\n",
    "                feed_dict={loaded_x: train_feature_batch, loaded_y: train_label_batch, loaded_keep_prob: 1.0})\n",
    "            test_batch_count += 1\n",
    "\n",
    "        print('Testing Accuracy: {}\\n'.format(test_batch_acc_total/test_batch_count))\n",
    "\n",
    "        # Print Random Samples\n",
    "        random_test_features, random_test_labels = tuple(zip(*random.sample(list(zip(test_features, test_labels)), n_samples)))\n",
    "        random_test_predictions = sess.run(\n",
    "            tf.nn.top_k(tf.nn.softmax(loaded_logits), top_n_predictions),\n",
    "            feed_dict={loaded_x: random_test_features, loaded_y: random_test_labels, loaded_keep_prob: 1.0})\n",
    "        helper.display_image_predictions(random_test_features, random_test_labels, random_test_predictions)\n",
    "\n",
    "\n",
    "test_model()"
   ]
  },
  {
   "cell_type": "markdown",
   "metadata": {},
   "source": [
    "## Why 50-70% Accuracy?\n",
    "You might be wondering why you can't get an accuracy any higher. First things first, 50% isn't bad for a simple CNN.  Pure guessing would get you 10% accuracy. However, you might notice people are getting scores [well above 70%](http://rodrigob.github.io/are_we_there_yet/build/classification_datasets_results.html#43494641522d3130).  That's because we haven't taught you all there is to know about neural networks. We still need to cover a few more techniques.\n",
    "## Submitting This Project\n",
    "When submitting this project, make sure to run all the cells before saving the notebook.  Save the notebook file as \"dlnd_image_classification.ipynb\" and save it as a HTML file under \"File\" -> \"Download as\".  Include the \"helper.py\" and \"problem_unittests.py\" files in your submission."
   ]
  }
 ],
 "metadata": {
  "anaconda-cloud": {},
  "kernelspec": {
   "display_name": "Python [conda env:tensorflow-gpu]",
   "language": "python",
   "name": "conda-env-tensorflow-gpu-py"
  },
  "language_info": {
   "codemirror_mode": {
    "name": "ipython",
    "version": 3
   },
   "file_extension": ".py",
   "mimetype": "text/x-python",
   "name": "python",
   "nbconvert_exporter": "python",
   "pygments_lexer": "ipython3",
   "version": "3.5.3"
  }
 },
 "nbformat": 4,
 "nbformat_minor": 0
}
